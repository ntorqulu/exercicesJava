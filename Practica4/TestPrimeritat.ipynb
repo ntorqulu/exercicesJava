{
 "cells": [
  {
   "cell_type": "markdown",
   "metadata": {},
   "source": [
    "<p style=\"text-align:right;font-size:0.9em\">\n",
    "Grau d'Enginyeria Informàtica. Algorísmica\n",
    "</p>"
   ]
  },
  {
   "cell_type": "markdown",
   "metadata": {},
   "source": [
    "<h1 style=\"padding:0.5em 0;font:Garamond;font-size:1-5em;color:#F90;background-color:#005\">\n",
    "Problema: Test primeritat\n",
    "</h1>"
   ]
  },
  {
   "cell_type": "markdown",
   "metadata": {},
   "source": [
    "Escriu una funció factorp que comprovi si un determinat nombre  n  és primer mitjançant la tècnica de la factorització i que imprimeixi quant temps ha trigat en calcular-ho (podeu usar el mètode explicat a http://www.purplemath.com/modules/factnumb.htm."
   ]
  },
  {
   "cell_type": "code",
   "execution_count": 18,
   "metadata": {},
   "outputs": [
    {
     "name": "stdout",
     "output_type": "stream",
     "text": [
      "False\n"
     ]
    },
    {
     "data": {
      "text/plain": [
       "0.0001776830001745111"
      ]
     },
     "execution_count": 18,
     "metadata": {},
     "output_type": "execute_result"
    }
   ],
   "source": [
    "# Substitueix la comanda pass pel teu codi\n",
    "# factoritzar nombre, si suma es el num i 1 retorna true\n",
    "import math\n",
    "import timeit\n",
    "def factorp(n):\n",
    "    start_time = timeit.default_timer()\n",
    "    primes = []\n",
    "    d =2\n",
    "    if n == 1:\n",
    "        print(True) \n",
    "    while d*d <= n:\n",
    "        while n%d == 0:\n",
    "            primes.append(d)\n",
    "            n = n // d\n",
    "        d += 1\n",
    "    if n > 1:\n",
    "        primes.append(n)\n",
    "    if sum(primes) == n:\n",
    "        print(True) \n",
    "    else:\n",
    "        print(False) \n",
    "    return(timeit.default_timer() - start_time)\n",
    "    \n",
    "factorp(33)"
   ]
  },
  {
   "cell_type": "code",
   "execution_count": null,
   "metadata": {},
   "outputs": [],
   "source": [
    "# Test de la funció\n",
    "factorp(7) #aquest exemple hauria de retornar (True, 5.13e-06) \n",
    "# el temps pot sortir lleugerament diferent i amb més decimals\n"
   ]
  },
  {
   "cell_type": "code",
   "execution_count": null,
   "metadata": {},
   "outputs": [],
   "source": [
    "# Test de la funció\n",
    "factorp(3) #aquest exemple hauria de retornar (True, 4.7e-06) \n",
    "# el temps pot sortir lleugerament diferent i amb més decimals"
   ]
  },
  {
   "cell_type": "markdown",
   "metadata": {},
   "source": [
    "## Pregunta 1\n",
    "Escriu una funció, ``fermatp``, que comprovi si un determinat nombre $n$ és primer mitjançant la tècnica de Fermat amb valors $a=2, 3,  5$ (veure apunts de teoria). La funció ha d’escriure al final del test si és un nombre primer i el temps invertit en el càlcul."
   ]
  },
  {
   "cell_type": "code",
   "execution_count": 24,
   "metadata": {},
   "outputs": [
    {
     "data": {
      "text/plain": [
       "True"
      ]
     },
     "execution_count": 24,
     "metadata": {},
     "output_type": "execute_result"
    }
   ],
   "source": [
    "# Substitueix la comanda pass pel teu codi\n",
    "# si p es primer a^p es concruent amb a modul p    a^p\n",
    "# si no es primer a^p-1 = 1 modul p\n",
    "import time\n",
    "def fermatp(a, N):\n",
    "    return (a ** (N-1) - 1) % N == 0\n",
    "fermatp(2, 11)"
   ]
  },
  {
   "cell_type": "code",
   "execution_count": null,
   "metadata": {},
   "outputs": [],
   "source": [
    "# Test de la funció\n",
    "fermatp(19) #aquest exemple hauria de retornar (True, 1.49e-05)\n",
    "# el temps pot sortir lleugerament diferent i amb més decimals"
   ]
  },
  {
   "cell_type": "markdown",
   "metadata": {},
   "source": [
    "<p style=\"text-align:right;font-size:0.9em\">\n",
    "&copy;Jordi Vitrià i Mireia Ribera\n",
    "</p>"
   ]
  }
 ],
 "metadata": {
  "kernelspec": {
   "display_name": "Python 3",
   "language": "python",
   "name": "python3"
  },
  "language_info": {
   "codemirror_mode": {
    "name": "ipython",
    "version": 3
   },
   "file_extension": ".py",
   "mimetype": "text/x-python",
   "name": "python",
   "nbconvert_exporter": "python",
   "pygments_lexer": "ipython3",
   "version": "3.6.5"
  }
 },
 "nbformat": 4,
 "nbformat_minor": 2
}
